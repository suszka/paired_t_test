{
 "cells": [
  {
   "cell_type": "markdown",
   "metadata": {
    "collapsed": true,
    "deletable": true,
    "editable": true
   },
   "source": [
    " This is the analysis of results from stroop experiement (Udacity Data Analysis Nanodegree course)\n",
    " data provided by Udacity\n",
    " author Anna S-G"
   ]
  },
  {
   "cell_type": "markdown",
   "metadata": {},
   "source": [
    " The dependent variable for this experiment is recorded time in seconds and this variable depends on the whether data is Congruent or Incongruent.\n",
    " In other words the independent variable is the matching of colour with text."
   ]
  },
  {
   "cell_type": "markdown",
   "metadata": {},
   "source": [
    " I use one directional t-test for paired samples. \n",
    " This is because the experiment is done twice each time with different conditions, but exactly on the same subjects.\n",
    " It is like experiment before and after treatment where treatment is swapping colours of words.\n",
    " Other observations are:\n",
    "1. The data are numeric and continuous\n",
    "2. The data are approximately based on normal distribution (more about this and outliers below).\n",
    "3. We can assume that the observations are independent (meaning one participant is independent on another participant)\n"
   ]
  },
  {
   "cell_type": "markdown",
   "metadata": {},
   "source": [
    " The null hypothesis assumes that the population mean difference between Congruent (Mu_C) and Incongruent (Mu_In) times is zero,\n",
    " meaning that the mean difference between the two times is not statistically significant.\n",
    " The alternative hypothesis is that the population mean difference between  Congruent and Incongruent times is not zero.\n",
    " In fact that the population mean time for Inongruent data is higher than the population mean time for Congruent data.\n",
    "\n",
    "H0: Mu_In-Mu_C = 0\n",
    "HA: Mu_In-Mu_C > 0"
   ]
  },
  {
   "cell_type": "code",
   "execution_count": 435,
   "metadata": {
    "collapsed": true,
    "deletable": true,
    "editable": true
   },
   "outputs": [],
   "source": [
    "import matplotlib.pyplot as plt\n",
    "import numpy as np\n",
    "import pandas as pd\n",
    "import seaborn as sns\n",
    "import math \n",
    "from scipy import stats\n",
    "from matplotlib import gridspec\n",
    "sns.set(style=\"whitegrid\", color_codes=True)\n",
    "%matplotlib inline"
   ]
  },
  {
   "cell_type": "code",
   "execution_count": 436,
   "metadata": {
    "collapsed": true,
    "deletable": true,
    "editable": true
   },
   "outputs": [],
   "source": [
    "filename = '/Users/Ania/Documents/CV/Courses/Nanodegree/Stroop_effect/stroopdata.csv'\n",
    "stroop_df = pd.read_csv(filename)"
   ]
  },
  {
   "cell_type": "code",
   "execution_count": 437,
   "metadata": {
    "collapsed": false
   },
   "outputs": [],
   "source": [
    "def statistics(data):\n",
    "    l = len(data)\n",
    "    df = l-1\n",
    "    mean = np.mean(data)\n",
    "    var = np.var(data)\n",
    "    #In here standard deviation is calculated for a sample, therefore parameter 'degreef of freedoom' ddof = 1.\n",
    "    Sd = np.std(data, ddof = 1)\n",
    "    \n",
    "    return mean, var, Sd, df\n",
    "\n",
    "def t_paired(data1, data2):\n",
    "    l = len(data1)\n",
    "    df = l-1\n",
    "    mean1 = np.mean(data1)\n",
    "    mean2 = np.mean(data2)\n",
    "    #below also standard deviation is calculated for a sample, therefore parameter 'degreef of freedoom' ddof = 1.\n",
    "    SE = np.std(data1-data2, ddof = 1)/np.sqrt(l)\n",
    "    t = (mean1-mean2)/SE\n",
    "        \n",
    "    return t, SE\n"
   ]
  },
  {
   "cell_type": "code",
   "execution_count": 438,
   "metadata": {
    "collapsed": false,
    "deletable": true,
    "editable": true
   },
   "outputs": [
    {
     "data": {
      "text/html": [
       "<div>\n",
       "<table border=\"1\" class=\"dataframe\">\n",
       "  <thead>\n",
       "    <tr style=\"text-align: right;\">\n",
       "      <th></th>\n",
       "      <th>Congruent</th>\n",
       "      <th>Incongruent</th>\n",
       "      <th>difference</th>\n",
       "    </tr>\n",
       "  </thead>\n",
       "  <tbody>\n",
       "    <tr>\n",
       "      <th>0</th>\n",
       "      <td>12.079</td>\n",
       "      <td>19.278</td>\n",
       "      <td>7.199</td>\n",
       "    </tr>\n",
       "    <tr>\n",
       "      <th>1</th>\n",
       "      <td>16.791</td>\n",
       "      <td>18.741</td>\n",
       "      <td>1.950</td>\n",
       "    </tr>\n",
       "    <tr>\n",
       "      <th>2</th>\n",
       "      <td>9.564</td>\n",
       "      <td>21.214</td>\n",
       "      <td>11.650</td>\n",
       "    </tr>\n",
       "    <tr>\n",
       "      <th>3</th>\n",
       "      <td>8.630</td>\n",
       "      <td>15.687</td>\n",
       "      <td>7.057</td>\n",
       "    </tr>\n",
       "    <tr>\n",
       "      <th>4</th>\n",
       "      <td>14.669</td>\n",
       "      <td>22.803</td>\n",
       "      <td>8.134</td>\n",
       "    </tr>\n",
       "    <tr>\n",
       "      <th>5</th>\n",
       "      <td>12.238</td>\n",
       "      <td>20.878</td>\n",
       "      <td>8.640</td>\n",
       "    </tr>\n",
       "    <tr>\n",
       "      <th>6</th>\n",
       "      <td>14.692</td>\n",
       "      <td>24.572</td>\n",
       "      <td>9.880</td>\n",
       "    </tr>\n",
       "    <tr>\n",
       "      <th>7</th>\n",
       "      <td>8.987</td>\n",
       "      <td>17.394</td>\n",
       "      <td>8.407</td>\n",
       "    </tr>\n",
       "    <tr>\n",
       "      <th>8</th>\n",
       "      <td>9.401</td>\n",
       "      <td>20.762</td>\n",
       "      <td>11.361</td>\n",
       "    </tr>\n",
       "    <tr>\n",
       "      <th>9</th>\n",
       "      <td>14.480</td>\n",
       "      <td>26.282</td>\n",
       "      <td>11.802</td>\n",
       "    </tr>\n",
       "    <tr>\n",
       "      <th>10</th>\n",
       "      <td>22.328</td>\n",
       "      <td>24.524</td>\n",
       "      <td>2.196</td>\n",
       "    </tr>\n",
       "    <tr>\n",
       "      <th>11</th>\n",
       "      <td>15.298</td>\n",
       "      <td>18.644</td>\n",
       "      <td>3.346</td>\n",
       "    </tr>\n",
       "    <tr>\n",
       "      <th>12</th>\n",
       "      <td>15.073</td>\n",
       "      <td>17.510</td>\n",
       "      <td>2.437</td>\n",
       "    </tr>\n",
       "    <tr>\n",
       "      <th>13</th>\n",
       "      <td>16.929</td>\n",
       "      <td>20.330</td>\n",
       "      <td>3.401</td>\n",
       "    </tr>\n",
       "    <tr>\n",
       "      <th>14</th>\n",
       "      <td>18.200</td>\n",
       "      <td>35.255</td>\n",
       "      <td>17.055</td>\n",
       "    </tr>\n",
       "    <tr>\n",
       "      <th>15</th>\n",
       "      <td>12.130</td>\n",
       "      <td>22.158</td>\n",
       "      <td>10.028</td>\n",
       "    </tr>\n",
       "    <tr>\n",
       "      <th>16</th>\n",
       "      <td>18.495</td>\n",
       "      <td>25.139</td>\n",
       "      <td>6.644</td>\n",
       "    </tr>\n",
       "    <tr>\n",
       "      <th>17</th>\n",
       "      <td>10.639</td>\n",
       "      <td>20.429</td>\n",
       "      <td>9.790</td>\n",
       "    </tr>\n",
       "    <tr>\n",
       "      <th>18</th>\n",
       "      <td>11.344</td>\n",
       "      <td>17.425</td>\n",
       "      <td>6.081</td>\n",
       "    </tr>\n",
       "    <tr>\n",
       "      <th>19</th>\n",
       "      <td>12.369</td>\n",
       "      <td>34.288</td>\n",
       "      <td>21.919</td>\n",
       "    </tr>\n",
       "    <tr>\n",
       "      <th>20</th>\n",
       "      <td>12.944</td>\n",
       "      <td>23.894</td>\n",
       "      <td>10.950</td>\n",
       "    </tr>\n",
       "    <tr>\n",
       "      <th>21</th>\n",
       "      <td>14.233</td>\n",
       "      <td>17.960</td>\n",
       "      <td>3.727</td>\n",
       "    </tr>\n",
       "    <tr>\n",
       "      <th>22</th>\n",
       "      <td>19.710</td>\n",
       "      <td>22.058</td>\n",
       "      <td>2.348</td>\n",
       "    </tr>\n",
       "    <tr>\n",
       "      <th>23</th>\n",
       "      <td>16.004</td>\n",
       "      <td>21.157</td>\n",
       "      <td>5.153</td>\n",
       "    </tr>\n",
       "  </tbody>\n",
       "</table>\n",
       "</div>"
      ],
      "text/plain": [
       "    Congruent  Incongruent  difference\n",
       "0      12.079       19.278       7.199\n",
       "1      16.791       18.741       1.950\n",
       "2       9.564       21.214      11.650\n",
       "3       8.630       15.687       7.057\n",
       "4      14.669       22.803       8.134\n",
       "5      12.238       20.878       8.640\n",
       "6      14.692       24.572       9.880\n",
       "7       8.987       17.394       8.407\n",
       "8       9.401       20.762      11.361\n",
       "9      14.480       26.282      11.802\n",
       "10     22.328       24.524       2.196\n",
       "11     15.298       18.644       3.346\n",
       "12     15.073       17.510       2.437\n",
       "13     16.929       20.330       3.401\n",
       "14     18.200       35.255      17.055\n",
       "15     12.130       22.158      10.028\n",
       "16     18.495       25.139       6.644\n",
       "17     10.639       20.429       9.790\n",
       "18     11.344       17.425       6.081\n",
       "19     12.369       34.288      21.919\n",
       "20     12.944       23.894      10.950\n",
       "21     14.233       17.960       3.727\n",
       "22     19.710       22.058       2.348\n",
       "23     16.004       21.157       5.153"
      ]
     },
     "execution_count": 438,
     "metadata": {},
     "output_type": "execute_result"
    }
   ],
   "source": [
    "n = len(stroop_df)\n",
    "stroop_df['difference'] = stroop_df['Incongruent']-stroop_df['Congruent']\n",
    "stroop_df"
   ]
  },
  {
   "cell_type": "code",
   "execution_count": 439,
   "metadata": {
    "collapsed": false
   },
   "outputs": [
    {
     "data": {
      "text/html": [
       "<div>\n",
       "<table border=\"1\" class=\"dataframe\">\n",
       "  <thead>\n",
       "    <tr style=\"text-align: right;\">\n",
       "      <th></th>\n",
       "      <th>Congruent</th>\n",
       "      <th>Incongruent</th>\n",
       "      <th>difference</th>\n",
       "    </tr>\n",
       "  </thead>\n",
       "  <tbody>\n",
       "    <tr>\n",
       "      <th>count</th>\n",
       "      <td>24.000000</td>\n",
       "      <td>24.000000</td>\n",
       "      <td>24.000000</td>\n",
       "    </tr>\n",
       "    <tr>\n",
       "      <th>mean</th>\n",
       "      <td>14.051125</td>\n",
       "      <td>22.015917</td>\n",
       "      <td>7.964792</td>\n",
       "    </tr>\n",
       "    <tr>\n",
       "      <th>std</th>\n",
       "      <td>3.559358</td>\n",
       "      <td>4.797057</td>\n",
       "      <td>4.864827</td>\n",
       "    </tr>\n",
       "    <tr>\n",
       "      <th>min</th>\n",
       "      <td>8.630000</td>\n",
       "      <td>15.687000</td>\n",
       "      <td>1.950000</td>\n",
       "    </tr>\n",
       "    <tr>\n",
       "      <th>25%</th>\n",
       "      <td>11.895250</td>\n",
       "      <td>18.716750</td>\n",
       "      <td>3.645500</td>\n",
       "    </tr>\n",
       "    <tr>\n",
       "      <th>50%</th>\n",
       "      <td>14.356500</td>\n",
       "      <td>21.017500</td>\n",
       "      <td>7.666500</td>\n",
       "    </tr>\n",
       "    <tr>\n",
       "      <th>75%</th>\n",
       "      <td>16.200750</td>\n",
       "      <td>24.051500</td>\n",
       "      <td>10.258500</td>\n",
       "    </tr>\n",
       "    <tr>\n",
       "      <th>max</th>\n",
       "      <td>22.328000</td>\n",
       "      <td>35.255000</td>\n",
       "      <td>21.919000</td>\n",
       "    </tr>\n",
       "  </tbody>\n",
       "</table>\n",
       "</div>"
      ],
      "text/plain": [
       "       Congruent  Incongruent  difference\n",
       "count  24.000000    24.000000   24.000000\n",
       "mean   14.051125    22.015917    7.964792\n",
       "std     3.559358     4.797057    4.864827\n",
       "min     8.630000    15.687000    1.950000\n",
       "25%    11.895250    18.716750    3.645500\n",
       "50%    14.356500    21.017500    7.666500\n",
       "75%    16.200750    24.051500   10.258500\n",
       "max    22.328000    35.255000   21.919000"
      ]
     },
     "execution_count": 439,
     "metadata": {},
     "output_type": "execute_result"
    }
   ],
   "source": [
    "stroop_df.describe()"
   ]
  },
  {
   "cell_type": "code",
   "execution_count": 440,
   "metadata": {
    "collapsed": false,
    "deletable": true,
    "editable": true
   },
   "outputs": [
    {
     "data": {
      "image/png": "[encoded data removed]",
      "text/plain": [
       "<matplotlib.figure.Figure at 0x11a68d110>"
      ]
     },
     "metadata": {},
     "output_type": "display_data"
    }
   ],
   "source": [
    "#Visual inspection of normality\n",
    "fig = plt.figure(figsize=(10, 6)) \n",
    "\n",
    "plt.hist(stroop_df['Congruent'], bins = 50, orientation='vertical', alpha = 0.7, color=['b'])\n",
    "plt.hist(stroop_df['Incongruent'], bins = 70, orientation='vertical',alpha = 0.7, color=['g'])\n",
    "plt.show()"
   ]
  },
  {
   "cell_type": "markdown",
   "metadata": {},
   "source": [
    " There is a problem with the dateset since there is only a few data points.\n",
    " It is clear that we grossly assume that the distribution of data for both sets is approximately normal\n",
    " This is particularly true for Incongruent data which are clearely positively skewed"
   ]
  },
  {
   "cell_type": "code",
   "execution_count": 441,
   "metadata": {
    "collapsed": false
   },
   "outputs": [
    {
     "data": {
      "image/png": "[encoded data removed]",
      "text/plain": [
       "<matplotlib.figure.Figure at 0x119fe7dd0>"
      ]
     },
     "metadata": {},
     "output_type": "display_data"
    }
   ],
   "source": [
    "#visual inspection of distribution for the difference between respective times\n",
    "plt.hist(stroop_df['difference'], bins = 50)\n",
    "plt.show()"
   ]
  },
  {
   "cell_type": "markdown",
   "metadata": {},
   "source": [
    "This set of data also seems positively skewed"
   ]
  },
  {
   "cell_type": "code",
   "execution_count": 442,
   "metadata": {
    "collapsed": false,
    "deletable": true,
    "editable": true
   },
   "outputs": [
    {
     "data": {
      "text/plain": [
       "<matplotlib.axes._subplots.AxesSubplot at 0x11aa173d0>"
      ]
     },
     "execution_count": 442,
     "metadata": {},
     "output_type": "execute_result"
    },
    {
     "data": {
      "image/png": "[encoded data removed]",
      "text/plain": [
       "<matplotlib.figure.Figure at 0x119fcafd0>"
      ]
     },
     "metadata": {},
     "output_type": "display_data"
    }
   ],
   "source": [
    "#Identification of potential outliers for the data\n",
    "fig = plt.figure(figsize=(10, 6)) \n",
    "sns.boxplot(stroop_df)"
   ]
  },
  {
   "cell_type": "markdown",
   "metadata": {},
   "source": [
    "It seems that the Incongruent data contain two outliers, this might potentially influence the result of our analysis\n",
    "I purpose to analise the t-statistics including and excluding outliers and compare the results."
   ]
  },
  {
   "cell_type": "markdown",
   "metadata": {},
   "source": [
    "----------------------------------------\n",
    ".......CALCULATIONS WITH OUTLIERS.....\n",
    "----------------------------------------\n"
   ]
  },
  {
   "cell_type": "code",
   "execution_count": 443,
   "metadata": {
    "collapsed": false,
    "deletable": true,
    "editable": true
   },
   "outputs": [
    {
     "name": "stdout",
     "output_type": "stream",
     "text": [
      "mu_diff = 7.96479166667 Var_diff =  22.6804349983 Sd_diff =  4.86482691036 df_diff =  23\n",
      "mu_C =  14.051125 Var_C =  12.1411528594 Sd_C =  3.55935795765 df_C =  23\n",
      "mu_In =  22.0159166667 Var_In =  22.0529338264 Sd_In =  4.79705712247 df_In =  23\n"
     ]
    }
   ],
   "source": [
    "#Calculation of statistical parameters (mean, variance, standard deviation and degree of freedom)\n",
    "\n",
    "mu_diff, Var_diff, Sd_diff, df_diff = statistics(stroop_df['difference'])\n",
    "mu_C, Var_C, Sd_C, df_C = statistics(stroop_df['Congruent'])\n",
    "mu_In, Var_In, Sd_In, df_In = statistics(stroop_df['Incongruent'])\n",
    "\n",
    "print 'mu_diff =', mu_diff, 'Var_diff = ', Var_diff, 'Sd_diff = ', Sd_diff, 'df_diff = ', df_diff\n",
    "print 'mu_C = ', mu_C, 'Var_C = ', Var_C, 'Sd_C = ', Sd_C, 'df_C = ', df_C \n",
    "print 'mu_In = ', mu_In, 'Var_In = ', Var_In, 'Sd_In = ', Sd_In, 'df_In = ', df_In"
   ]
  },
  {
   "cell_type": "code",
   "execution_count": 444,
   "metadata": {
    "collapsed": false
   },
   "outputs": [
    {
     "name": "stdout",
     "output_type": "stream",
     "text": [
      "t_stat =  8.02070694411\n",
      "SE =  0.993028634778\n"
     ]
    }
   ],
   "source": [
    "#Calculation of t-statistics\n",
    "\n",
    "t_stat, SE = t_paired(stroop_df['Incongruent'], stroop_df['Congruent'])\n",
    "\n",
    "print 't_stat = ', t_stat \n",
    "print 'SE = ', SE"
   ]
  },
  {
   "cell_type": "markdown",
   "metadata": {
    "collapsed": true,
    "deletable": true,
    "editable": true
   },
   "source": [
    "p value is equal to p <  0.0001 so practically zero.  \n",
    "t_crit = 1.717, df = 23 for alpha = 0.05 one tailed test\n",
    "We reject the null hupothesis\n",
    "Just in case we would consider two directional test t_crit = 2.074 @ alphe = 0.05"
   ]
  },
  {
   "cell_type": "code",
   "execution_count": 445,
   "metadata": {
    "collapsed": false
   },
   "outputs": [
    {
     "name": "stdout",
     "output_type": "stream",
     "text": [
      "mu_diff = 7.96479166667\n",
      "CI =  (6.2597615007522549, 9.6698218325810767)\n"
     ]
    }
   ],
   "source": [
    "#Lets calculate the confidence intervals\n",
    "\n",
    "t_crit = 1.717\n",
    "CI_pos = mu_diff+t_crit*SE\n",
    "CI_neg = mu_diff-t_crit*SE\n",
    "print 'mu_diff =', mu_diff\n",
    "print 'CI = ', (CI_neg, CI_pos)"
   ]
  },
  {
   "cell_type": "code",
   "execution_count": 446,
   "metadata": {
    "collapsed": false
   },
   "outputs": [
    {
     "name": "stdout",
     "output_type": "stream",
     "text": [
      "C_d =  1.63721994912\n",
      "r^2 =  0.736636416145\n"
     ]
    }
   ],
   "source": [
    "#lets calculate the effect size (Cohen's d) and the correlation factor r^2\n",
    "\n",
    "C_d = mu_diff/Sd_diff\n",
    "r_sq = (t_stat**2)/(t_stat**2+df_In)\n",
    "print'C_d = ', C_d\n",
    "print 'r^2 = ', r_sq "
   ]
  },
  {
   "cell_type": "markdown",
   "metadata": {},
   "source": [
    "Cohen's d is rather small (below 2St_dev) however true meaning of this value depends on the experimental question and the expected values\n",
    "The value of r^2 suggests that around 70 percent of values are correlated, \n",
    "meaning that knowing the result of Congruent time one could predict 70 percent of Incongruent times.\n",
    "We could further plot the graph and inspect it visually"
   ]
  },
  {
   "cell_type": "code",
   "execution_count": 447,
   "metadata": {
    "collapsed": false
   },
   "outputs": [
    {
     "data": {
      "image/png": "[encoded data removed]",
      "text/plain": [
       "<matplotlib.figure.Figure at 0x11a0b1990>"
      ]
     },
     "metadata": {},
     "output_type": "display_data"
    }
   ],
   "source": [
    "plt.scatter(stroop_df['Incongruent'], stroop_df['Congruent'])\n",
    "plt.show()"
   ]
  },
  {
   "cell_type": "markdown",
   "metadata": {},
   "source": [
    "at this point we may or may not see a definite proof for correlation, we should model the data\n",
    "...but I will stop for now."
   ]
  },
  {
   "cell_type": "markdown",
   "metadata": {},
   "source": [
    "----------------------------------------\n",
    "...CALCULATIONS WITHOUT OUTLIERS.....\n",
    "----------------------------------------\n"
   ]
  },
  {
   "cell_type": "code",
   "execution_count": 448,
   "metadata": {
    "collapsed": false
   },
   "outputs": [
    {
     "data": {
      "text/html": [
       "<div>\n",
       "<table border=\"1\" class=\"dataframe\">\n",
       "  <thead>\n",
       "    <tr style=\"text-align: right;\">\n",
       "      <th></th>\n",
       "      <th>Congruent</th>\n",
       "      <th>Incongruent</th>\n",
       "      <th>difference</th>\n",
       "    </tr>\n",
       "  </thead>\n",
       "  <tbody>\n",
       "    <tr>\n",
       "      <th>0</th>\n",
       "      <td>12.079</td>\n",
       "      <td>19.278</td>\n",
       "      <td>7.199</td>\n",
       "    </tr>\n",
       "    <tr>\n",
       "      <th>1</th>\n",
       "      <td>16.791</td>\n",
       "      <td>18.741</td>\n",
       "      <td>1.950</td>\n",
       "    </tr>\n",
       "    <tr>\n",
       "      <th>2</th>\n",
       "      <td>9.564</td>\n",
       "      <td>21.214</td>\n",
       "      <td>11.650</td>\n",
       "    </tr>\n",
       "    <tr>\n",
       "      <th>3</th>\n",
       "      <td>8.630</td>\n",
       "      <td>15.687</td>\n",
       "      <td>7.057</td>\n",
       "    </tr>\n",
       "    <tr>\n",
       "      <th>4</th>\n",
       "      <td>14.669</td>\n",
       "      <td>22.803</td>\n",
       "      <td>8.134</td>\n",
       "    </tr>\n",
       "    <tr>\n",
       "      <th>5</th>\n",
       "      <td>12.238</td>\n",
       "      <td>20.878</td>\n",
       "      <td>8.640</td>\n",
       "    </tr>\n",
       "    <tr>\n",
       "      <th>6</th>\n",
       "      <td>14.692</td>\n",
       "      <td>24.572</td>\n",
       "      <td>9.880</td>\n",
       "    </tr>\n",
       "    <tr>\n",
       "      <th>7</th>\n",
       "      <td>8.987</td>\n",
       "      <td>17.394</td>\n",
       "      <td>8.407</td>\n",
       "    </tr>\n",
       "    <tr>\n",
       "      <th>8</th>\n",
       "      <td>9.401</td>\n",
       "      <td>20.762</td>\n",
       "      <td>11.361</td>\n",
       "    </tr>\n",
       "    <tr>\n",
       "      <th>9</th>\n",
       "      <td>14.480</td>\n",
       "      <td>26.282</td>\n",
       "      <td>11.802</td>\n",
       "    </tr>\n",
       "    <tr>\n",
       "      <th>10</th>\n",
       "      <td>22.328</td>\n",
       "      <td>24.524</td>\n",
       "      <td>2.196</td>\n",
       "    </tr>\n",
       "    <tr>\n",
       "      <th>11</th>\n",
       "      <td>15.298</td>\n",
       "      <td>18.644</td>\n",
       "      <td>3.346</td>\n",
       "    </tr>\n",
       "    <tr>\n",
       "      <th>12</th>\n",
       "      <td>15.073</td>\n",
       "      <td>17.510</td>\n",
       "      <td>2.437</td>\n",
       "    </tr>\n",
       "    <tr>\n",
       "      <th>13</th>\n",
       "      <td>16.929</td>\n",
       "      <td>20.330</td>\n",
       "      <td>3.401</td>\n",
       "    </tr>\n",
       "    <tr>\n",
       "      <th>15</th>\n",
       "      <td>12.130</td>\n",
       "      <td>22.158</td>\n",
       "      <td>10.028</td>\n",
       "    </tr>\n",
       "    <tr>\n",
       "      <th>16</th>\n",
       "      <td>18.495</td>\n",
       "      <td>25.139</td>\n",
       "      <td>6.644</td>\n",
       "    </tr>\n",
       "    <tr>\n",
       "      <th>17</th>\n",
       "      <td>10.639</td>\n",
       "      <td>20.429</td>\n",
       "      <td>9.790</td>\n",
       "    </tr>\n",
       "    <tr>\n",
       "      <th>18</th>\n",
       "      <td>11.344</td>\n",
       "      <td>17.425</td>\n",
       "      <td>6.081</td>\n",
       "    </tr>\n",
       "    <tr>\n",
       "      <th>20</th>\n",
       "      <td>12.944</td>\n",
       "      <td>23.894</td>\n",
       "      <td>10.950</td>\n",
       "    </tr>\n",
       "    <tr>\n",
       "      <th>21</th>\n",
       "      <td>14.233</td>\n",
       "      <td>17.960</td>\n",
       "      <td>3.727</td>\n",
       "    </tr>\n",
       "    <tr>\n",
       "      <th>22</th>\n",
       "      <td>19.710</td>\n",
       "      <td>22.058</td>\n",
       "      <td>2.348</td>\n",
       "    </tr>\n",
       "    <tr>\n",
       "      <th>23</th>\n",
       "      <td>16.004</td>\n",
       "      <td>21.157</td>\n",
       "      <td>5.153</td>\n",
       "    </tr>\n",
       "  </tbody>\n",
       "</table>\n",
       "</div>"
      ],
      "text/plain": [
       "    Congruent  Incongruent  difference\n",
       "0      12.079       19.278       7.199\n",
       "1      16.791       18.741       1.950\n",
       "2       9.564       21.214      11.650\n",
       "3       8.630       15.687       7.057\n",
       "4      14.669       22.803       8.134\n",
       "5      12.238       20.878       8.640\n",
       "6      14.692       24.572       9.880\n",
       "7       8.987       17.394       8.407\n",
       "8       9.401       20.762      11.361\n",
       "9      14.480       26.282      11.802\n",
       "10     22.328       24.524       2.196\n",
       "11     15.298       18.644       3.346\n",
       "12     15.073       17.510       2.437\n",
       "13     16.929       20.330       3.401\n",
       "15     12.130       22.158      10.028\n",
       "16     18.495       25.139       6.644\n",
       "17     10.639       20.429       9.790\n",
       "18     11.344       17.425       6.081\n",
       "20     12.944       23.894      10.950\n",
       "21     14.233       17.960       3.727\n",
       "22     19.710       22.058       2.348\n",
       "23     16.004       21.157       5.153"
      ]
     },
     "execution_count": 448,
     "metadata": {},
     "output_type": "execute_result"
    }
   ],
   "source": [
    "#removing outliers from Incongruent\n",
    "out = stroop_df.Incongruent.quantile(.95)\n",
    "stroop_df_no = stroop_df[stroop_df.Incongruent<out]\n",
    "stroop_df_no"
   ]
  },
  {
   "cell_type": "code",
   "execution_count": 449,
   "metadata": {
    "collapsed": false
   },
   "outputs": [
    {
     "data": {
      "text/html": [
       "<div>\n",
       "<table border=\"1\" class=\"dataframe\">\n",
       "  <thead>\n",
       "    <tr style=\"text-align: right;\">\n",
       "      <th></th>\n",
       "      <th>Congruent</th>\n",
       "      <th>Incongruent</th>\n",
       "      <th>difference</th>\n",
       "    </tr>\n",
       "  </thead>\n",
       "  <tbody>\n",
       "    <tr>\n",
       "      <th>14</th>\n",
       "      <td>18.200</td>\n",
       "      <td>35.255</td>\n",
       "      <td>17.055</td>\n",
       "    </tr>\n",
       "    <tr>\n",
       "      <th>19</th>\n",
       "      <td>12.369</td>\n",
       "      <td>34.288</td>\n",
       "      <td>21.919</td>\n",
       "    </tr>\n",
       "  </tbody>\n",
       "</table>\n",
       "</div>"
      ],
      "text/plain": [
       "    Congruent  Incongruent  difference\n",
       "14     18.200       35.255      17.055\n",
       "19     12.369       34.288      21.919"
      ]
     },
     "execution_count": 449,
     "metadata": {},
     "output_type": "execute_result"
    }
   ],
   "source": [
    "stroop_df_o = stroop_df[stroop_df.Incongruent>out]\n",
    "stroop_df_o"
   ]
  },
  {
   "cell_type": "markdown",
   "metadata": {},
   "source": [
    "So I removed two points above .95 percentile (no. 14, and 19) "
   ]
  },
  {
   "cell_type": "code",
   "execution_count": 450,
   "metadata": {
    "collapsed": false
   },
   "outputs": [
    {
     "data": {
      "image/png": "[encoded data removed]",
      "text/plain": [
       "<matplotlib.figure.Figure at 0x11a813510>"
      ]
     },
     "metadata": {},
     "output_type": "display_data"
    }
   ],
   "source": [
    "#Visual inspection of normality\n",
    "\n",
    "fig = plt.figure(figsize=(10, 6)) \n",
    "\n",
    "plt.hist(stroop_df_no['Congruent'], bins = 50, orientation='vertical', alpha = 0.7, color=['b'])\n",
    "plt.hist(stroop_df_no['Incongruent'], bins = 75, orientation='vertical',alpha = 0.7, color=['g'])\n",
    "plt.show()"
   ]
  },
  {
   "cell_type": "markdown",
   "metadata": {},
   "source": [
    "At the first glance the distribution looks more normal"
   ]
  },
  {
   "cell_type": "code",
   "execution_count": 451,
   "metadata": {
    "collapsed": false
   },
   "outputs": [
    {
     "data": {
      "image/png": "[encoded data removed]",
      "text/plain": [
       "<matplotlib.figure.Figure at 0x11a987050>"
      ]
     },
     "metadata": {},
     "output_type": "display_data"
    }
   ],
   "source": [
    "plt.hist(stroop_df_no['difference'], bins = 50)\n",
    "plt.show()"
   ]
  },
  {
   "cell_type": "markdown",
   "metadata": {},
   "source": [
    "This distribution has become more uniform"
   ]
  },
  {
   "cell_type": "code",
   "execution_count": 452,
   "metadata": {
    "collapsed": false
   },
   "outputs": [
    {
     "data": {
      "text/plain": [
       "<matplotlib.axes._subplots.AxesSubplot at 0x11b535110>"
      ]
     },
     "execution_count": 452,
     "metadata": {},
     "output_type": "execute_result"
    },
    {
     "data": {
      "image/png": "[encoded data removed]",
      "text/plain": [
       "<matplotlib.figure.Figure at 0x11b5a4cd0>"
      ]
     },
     "metadata": {},
     "output_type": "display_data"
    }
   ],
   "source": [
    "#Identification of potential outliers for the data with boxplot\n",
    "fig = plt.figure(figsize=(10, 6)) \n",
    "sns.boxplot(stroop_df_no)"
   ]
  },
  {
   "cell_type": "code",
   "execution_count": 453,
   "metadata": {
    "collapsed": false
   },
   "outputs": [
    {
     "name": "stdout",
     "output_type": "stream",
     "text": [
      "mu_diff_no = 6.91731818182 Var_diff_no =  11.0381912169 Sd_diff_no =  3.40056162569 df_diff_no =  21\n",
      "mu_C_no =  13.939 Var_C_no =  12.3212898182 Sd_C_no =  3.59277301047 df_C_no =  21\n",
      "mu_In_no =  20.8563181818 Var_In_no =  7.90047021694 Sd_In_no =  2.87692250233 df_In_no =  21\n"
     ]
    }
   ],
   "source": [
    "#Calculation of statistical parameters (mean, variance, standard deviation and degree of freedom)\n",
    "\n",
    "mu_diff_no, Var_diff_no, Sd_diff_no, df_diff_no = statistics(stroop_df_no['difference'])\n",
    "mu_C_no, Var_C_no, Sd_C_no, df_C_no = statistics(stroop_df_no['Congruent'])\n",
    "mu_In_no, Var_In_no, Sd_In_no, df_In_no = statistics(stroop_df_no['Incongruent'])\n",
    "\n",
    "print 'mu_diff_no =', mu_diff_no, 'Var_diff_no = ', Var_diff_no, 'Sd_diff_no = ', Sd_diff_no, 'df_diff_no = ', df_diff_no\n",
    "print 'mu_C_no = ', mu_C_no, 'Var_C_no = ', Var_C_no, 'Sd_C_no = ', Sd_C_no, 'df_C_no = ', df_C_no \n",
    "print 'mu_In_no = ', mu_In_no, 'Var_In_no = ', Var_In_no, 'Sd_In_no = ', Sd_In_no, 'df_In_no = ', df_In_no"
   ]
  },
  {
   "cell_type": "code",
   "execution_count": 454,
   "metadata": {
    "collapsed": false
   },
   "outputs": [
    {
     "name": "stdout",
     "output_type": "stream",
     "text": [
      "t_stat_no =  9.54109990849\n",
      "SE_no =  0.725002174609\n"
     ]
    }
   ],
   "source": [
    "#Calculation of t-statistics\n",
    "\n",
    "t_stat_no, SE_no = t_paired(stroop_df_no['Incongruent'], stroop_df_no['Congruent'])\n",
    "\n",
    "print 't_stat_no = ', t_stat_no\n",
    "print 'SE_no = ', SE_no"
   ]
  },
  {
   "cell_type": "code",
   "execution_count": 455,
   "metadata": {
    "collapsed": true
   },
   "outputs": [],
   "source": [
    "#p value is p < 0.0001\n",
    "#Similarly to statistics with outliers in here we also reject the null."
   ]
  },
  {
   "cell_type": "code",
   "execution_count": 456,
   "metadata": {
    "collapsed": false
   },
   "outputs": [
    {
     "data": {
      "text/plain": [
       "-18.955847345834407"
      ]
     },
     "execution_count": 456,
     "metadata": {},
     "output_type": "execute_result"
    }
   ],
   "source": [
    "t_change = (t_stat-t_stat_no)/t_stat*100\n",
    "t_change"
   ]
  },
  {
   "cell_type": "markdown",
   "metadata": {},
   "source": [
    "Removing the outliers changed the t-statistics by about 20%. \n",
    "t_crit = 1.721 for df = 21 and alpha = 0.95\n",
    "This doesn't change the overall result since both t-statistics strongly indicated that the mean difference is statistically significant.\n",
    "the result of t-statistics after removal of outliers does not change the decision to reject the null."
   ]
  },
  {
   "cell_type": "code",
   "execution_count": 457,
   "metadata": {
    "collapsed": false
   },
   "outputs": [
    {
     "name": "stdout",
     "output_type": "stream",
     "text": [
      "mu_diff_no = 6.91731818182\n",
      "CI_no =  (5.6724894480145958, 8.162146915621765)\n"
     ]
    }
   ],
   "source": [
    "#Lets calculate the confidence intervals\n",
    "t_crit_no = 1.717\n",
    "CI_pos_no = mu_diff_no+t_crit_no*SE_no\n",
    "CI_neg_no = mu_diff_no-t_crit_no*SE_no\n",
    "print 'mu_diff_no =', mu_diff_no\n",
    "print 'CI_no = ', (CI_neg_no, CI_pos_no)"
   ]
  },
  {
   "cell_type": "code",
   "execution_count": 458,
   "metadata": {
    "collapsed": false
   },
   "outputs": [
    {
     "name": "stdout",
     "output_type": "stream",
     "text": [
      "C_d_no =  0.415852082531\n",
      "r_sq_no =  0.812554539037\n"
     ]
    }
   ],
   "source": [
    "#lets calculate the effect size (Cohen's d) and the correlation factor r^2\n",
    "\n",
    "C_d__no = mu_diff_no/Sd_diff_no\n",
    "r_sq_no = t_stat_no**2/(t_stat_no**2+df_In_no)\n",
    "print 'C_d_no = ', C_d_no\n",
    "print 'r_sq_no = ', r_sq_no"
   ]
  },
  {
   "cell_type": "markdown",
   "metadata": {},
   "source": [
    "Again Cohen's d is small (below 1St_dev) again - true meaning of this value depends on the experimental question and the expected values\n",
    "In here the correlation seems even stronger (around 81%) which is logical after removal of the outliers."
   ]
  },
  {
   "cell_type": "code",
   "execution_count": 459,
   "metadata": {
    "collapsed": false
   },
   "outputs": [
    {
     "data": {
      "image/png": "[encoded data removed]",
      "text/plain": [
       "<matplotlib.figure.Figure at 0x11a86ebd0>"
      ]
     },
     "metadata": {},
     "output_type": "display_data"
    }
   ],
   "source": [
    "plt.scatter(stroop_df_no['Incongruent'], stroop_df_no['Congruent'])\n",
    "plt.show()"
   ]
  },
  {
   "cell_type": "markdown",
   "metadata": {},
   "source": [
    "--------CONCLUSIONS---------\n",
    "\n",
    " Analised data set was rather small, more participants of experiment would certainly increase the confidence of result. The result of a t-test with and without outliers allows for an assumption that the population mean difference between Congruent and Incongruent times is statistically significant. R^2 result also indicated both datasets are strongly correlated, which is also expected.\n",
    " The presence of two outliers in Incongruent dta might be either due to difficulty of the task or simple distraction, we don't know for sure.\n",
    "\n",
    "In geneeral th experiment shows the difference in speed for two human reactions (speak colour and read word) where saying colour takes longer than reading. I expect there are research showing how and if this effect can be surpressed. Also one could think of designing a similar experiment where decision parts of the brain would be located in opposite hemispheres. It would be interesting to see if human reaction can be manipulated better."
   ]
  },
  {
   "cell_type": "code",
   "execution_count": null,
   "metadata": {
    "collapsed": false
   },
   "outputs": [],
   "source": []
  },
  {
   "cell_type": "code",
   "execution_count": null,
   "metadata": {
    "collapsed": true
   },
   "outputs": [],
   "source": []
  }
 ],
 "metadata": {
  "kernelspec": {
   "display_name": "Python 2",
   "language": "python",
   "name": "python2"
  },
  "language_info": {
   "codemirror_mode": {
    "name": "ipython",
    "version": 2
   },
   "file_extension": ".py",
   "mimetype": "text/x-python",
   "name": "python",
   "nbconvert_exporter": "python",
   "pygments_lexer": "ipython2",
   "version": "2.7.11"
  }
 },
 "nbformat": 4,
 "nbformat_minor": 2
}
